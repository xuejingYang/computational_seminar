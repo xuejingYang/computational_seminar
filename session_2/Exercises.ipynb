{
 "cells": [
  {
   "cell_type": "markdown",
   "metadata": {},
   "source": [
    "# Exercises"
   ]
  },
  {
   "cell_type": "markdown",
   "metadata": {},
   "source": [
    "\n",
    "<a id='exerciselist-0'></a>\n",
    "**Exercise 1**\n",
    "\n",
    "What do you think the value of `z` is after running the code below?"
   ]
  },
  {
   "cell_type": "code",
   "execution_count": null,
   "metadata": {
    "hide-output": false
   },
   "outputs": [],
   "source": [
    "z = 3\n",
    "z = z + 4\n",
    "print(\"z is\", z)\n"
   ]
  },
  {
   "cell_type": "markdown",
   "metadata": {},
   "source": [
    "**Exercise 2**\n",
    "\n",
    "Read about out what the `len` function does (by writing len?).\n",
    "\n",
    "What will it produce if we give it the variable `x`?\n",
    "\n",
    "Check whether you were right by running the code `len(x)`."
   ]
  },
  {
   "cell_type": "code",
   "execution_count": 2,
   "metadata": {},
   "outputs": [
    {
     "data": {
      "text/plain": [
       "\u001b[0;31mSignature:\u001b[0m \u001b[0mlen\u001b[0m\u001b[0;34m(\u001b[0m\u001b[0mobj\u001b[0m\u001b[0;34m,\u001b[0m \u001b[0;34m/\u001b[0m\u001b[0;34m)\u001b[0m\u001b[0;34m\u001b[0m\u001b[0;34m\u001b[0m\u001b[0m\n",
       "\u001b[0;31mDocstring:\u001b[0m Return the number of items in a container.\n",
       "\u001b[0;31mType:\u001b[0m      builtin_function_or_method\n"
      ]
     },
     "metadata": {},
     "output_type": "display_data"
    }
   ],
   "source": [
    "len?"
   ]
  },
  {
   "cell_type": "code",
   "execution_count": null,
   "metadata": {},
   "outputs": [],
   "source": [
    "x = \"abe\"\n",
    "len(x)"
   ]
  },
  {
   "cell_type": "code",
   "execution_count": null,
   "metadata": {},
   "outputs": [],
   "source": [
    "x = [1,2,3,4]\n",
    "len(x)"
   ]
  },
  {
   "cell_type": "markdown",
   "metadata": {},
   "source": [
    "**Exercise 3**\n",
    "\n",
    "We can use our introspection skills to investigate a package's contents.\n",
    "\n",
    "In the cell below, use tab completion to find a function from the `time`\n",
    "module that will display the **local** time.\n",
    "\n",
    "Use `time.FUNC_NAME?` (where `FUNC_NAME` is replaced with the\n",
    "function you found) to see information about that function and\n",
    "then call the function. (Hint: look for something to do with the word\n",
    "`local`)."
   ]
  },
  {
   "cell_type": "code",
   "execution_count": null,
   "metadata": {},
   "outputs": [],
   "source": [
    "import time\n",
    "time."
   ]
  },
  {
   "cell_type": "code",
   "execution_count": 8,
   "metadata": {
    "hide-output": false
   },
   "outputs": [
    {
     "data": {
      "text/plain": [
       "447512.31643098034"
      ]
     },
     "execution_count": 8,
     "metadata": {},
     "output_type": "execute_result"
    }
   ],
   "source": [
    "import time\n",
    "# your code here -- notice the comment!\n",
    "time.time() / 3600"
   ]
  },
  {
   "cell_type": "markdown",
   "metadata": {},
   "source": [
    "**Exercise 4**\n",
    "\n",
    "Try running `import time as t` in the cell below, then see if you can\n",
    "call the function you identified above.\n",
    "\n",
    "Does it work?"
   ]
  },
  {
   "cell_type": "code",
   "execution_count": null,
   "metadata": {},
   "outputs": [],
   "source": []
  },
  {
   "cell_type": "markdown",
   "metadata": {},
   "source": [
    "**Exercise 5**\n",
    "\n",
    "Create the following variables:\n",
    "\n",
    "- `D`: A floating point number with the value 10,000  \n",
    "- `r`: A floating point number with value 0.025  \n",
    "- `T`: An integer with value 30  \n",
    "\n",
    "\n",
    "We will use them in a later exercise."
   ]
  },
  {
   "cell_type": "code",
   "execution_count": 18,
   "metadata": {
    "hide-output": false
   },
   "outputs": [],
   "source": []
  },
  {
   "cell_type": "markdown",
   "metadata": {},
   "source": [
    "**Exercise 6**\n",
    "\n",
    "Remember the variables we created earlier?\n",
    "\n",
    "Let's compute the present discounted value of a payment ($ D $) made\n",
    "in $ T $ years assuming an interest rate of 2.5%. Save this value to\n",
    "a new variable called `PDV` and print your output.\n",
    "\n",
    "Hint: The formula is\n",
    "\n",
    "$$\n",
    "\\text{PDV} = \\frac{D}{(1 + r)^T}\n",
    "$$"
   ]
  },
  {
   "cell_type": "code",
   "execution_count": 21,
   "metadata": {
    "hide-output": false
   },
   "outputs": [
    {
     "data": {
      "text/plain": [
       "4767.426851809713"
      ]
     },
     "execution_count": 21,
     "metadata": {},
     "output_type": "execute_result"
    }
   ],
   "source": []
  },
  {
   "cell_type": "markdown",
   "metadata": {},
   "source": [
    "**Exercise 7**\n",
    "\n",
    "Verify the \"trick\" where the percent difference ($ \\frac{x - y}{x} $)\n",
    "between two numbers close to 1 can be well approximated by the difference\n",
    "between the log of the two numbers ($ \\log(x) - \\log(y) $).\n",
    "\n",
    "Use the numbers `x` and `y` below. (Hint: you will want to use the\n",
    "`math.log` function)"
   ]
  },
  {
   "cell_type": "code",
   "execution_count": 26,
   "metadata": {
    "hide-output": false
   },
   "outputs": [
    {
     "name": "stdout",
     "output_type": "stream",
     "text": [
      "A: 0.028571428571428595 | B: 0.02898753687325232\n"
     ]
    }
   ],
   "source": []
  },
  {
   "cell_type": "markdown",
   "metadata": {},
   "source": [
    "**Exercise 8**\n",
    "\n",
    "The code below is invalid Python code"
   ]
  },
  {
   "cell_type": "code",
   "execution_count": 30,
   "metadata": {
    "hide-output": false
   },
   "outputs": [],
   "source": [
    "x = \"What's wrong with this string\"\n"
   ]
  },
  {
   "cell_type": "markdown",
   "metadata": {},
   "source": [
    "Can you fix it?\n",
    "\n",
    "*Hint*: Try creating a code cell below and testing things out until you\n",
    "find a solution."
   ]
  },
  {
   "cell_type": "markdown",
   "metadata": {},
   "source": [
    "**Exercise 9**\n",
    "\n",
    "Using the variables `x` and `y`, how could you create the sentence\n",
    "`Hello World`?\n",
    "\n",
    "Hint: Think about how to represent a space as a string.\n",
    "\n",
    "([*back to text*](https://datascience.quantecon.org/#exercise-8))"
   ]
  },
  {
   "cell_type": "code",
   "execution_count": 33,
   "metadata": {},
   "outputs": [],
   "source": [
    "x = \"Hello\"\n",
    "y = \"World\""
   ]
  },
  {
   "cell_type": "code",
   "execution_count": 35,
   "metadata": {},
   "outputs": [
    {
     "data": {
      "text/plain": [
       "'Hello World'"
      ]
     },
     "execution_count": 35,
     "metadata": {},
     "output_type": "execute_result"
    }
   ],
   "source": []
  },
  {
   "cell_type": "markdown",
   "metadata": {},
   "source": [
    "**Exercise 10**\n",
    "\n",
    "One of our favorite (and most frequently used) string methods is\n",
    "`replace`.\n",
    "\n",
    "It substitutes all occurrences of a particular pattern with a different pattern.\n",
    "\n",
    "For the variable `test` below, use the `replace` method to change the\n",
    "`c` to a `d`.\n",
    "\n",
    "Hint: Type `test.replace?` to get some help for how to use the method\n",
    "replace."
   ]
  },
  {
   "cell_type": "code",
   "execution_count": 43,
   "metadata": {
    "hide-output": false
   },
   "outputs": [],
   "source": [
    "test = \"abcabcabc\""
   ]
  },
  {
   "cell_type": "code",
   "execution_count": 41,
   "metadata": {},
   "outputs": [
    {
     "data": {
      "text/plain": [
       "\u001b[0;31mSignature:\u001b[0m \u001b[0mtest\u001b[0m\u001b[0;34m.\u001b[0m\u001b[0mreplace\u001b[0m\u001b[0;34m(\u001b[0m\u001b[0mold\u001b[0m\u001b[0;34m,\u001b[0m \u001b[0mnew\u001b[0m\u001b[0;34m,\u001b[0m \u001b[0mcount\u001b[0m\u001b[0;34m=\u001b[0m\u001b[0;34m-\u001b[0m\u001b[0;36m1\u001b[0m\u001b[0;34m,\u001b[0m \u001b[0;34m/\u001b[0m\u001b[0;34m)\u001b[0m\u001b[0;34m\u001b[0m\u001b[0;34m\u001b[0m\u001b[0m\n",
       "\u001b[0;31mDocstring:\u001b[0m\n",
       "Return a copy with all occurrences of substring old replaced by new.\n",
       "\n",
       "  count\n",
       "    Maximum number of occurrences to replace.\n",
       "    -1 (the default value) means replace all occurrences.\n",
       "\n",
       "If the optional argument count is given, only the first count occurrences are\n",
       "replaced.\n",
       "\u001b[0;31mType:\u001b[0m      builtin_function_or_method\n"
      ]
     },
     "metadata": {},
     "output_type": "display_data"
    }
   ],
   "source": [
    "test.replace?"
   ]
  },
  {
   "cell_type": "markdown",
   "metadata": {},
   "source": [
    "**Exercise 11**\n",
    "\n",
    "Suppose you are working with price data and encounter the value\n",
    "`\"\\$6.50\"`.\n",
    "\n",
    "We recognize this as being a number representing the quantity \"six dollars and fifty cents.\"\n",
    "\n",
    "However, Python interprets the value as the string\n",
    "`\"\\$6.50\"`. (Quiz: why is this a problem? Think about the examples above.)\n",
    "\n",
    "In this exercise, your task is to convert the variable `price` below\n",
    "into a number.\n",
    "\n",
    "*Hint*: Once the string is in a suitable format, you can call write\n",
    "`float(clean_price)` to make it a number."
   ]
  },
  {
   "cell_type": "markdown",
   "metadata": {
    "hide-output": false
   },
   "source": [
    "```python\n",
    "price = \"$6.50\"\n",
    "```\n"
   ]
  },
  {
   "cell_type": "markdown",
   "metadata": {},
   "source": [
    "**Exercise 12**\n",
    "\n",
    "Lookup a country in [World Bank database](https://data.worldbank.org), and\n",
    "format a string showing the growth rate of GDP over the last 2 years.\n",
    "\n",
    "**Exercise 13**\n",
    "\n",
    "Instead of hard-coding the values above, try to use the `country`, `GDP` and\n",
    "`year` variables you previously defined.\n",
    "\n",
    "\n",
    "**Exercise 14**\n",
    "\n",
    "Create a new string and use formatting to produce each of the following\n",
    "statements\n",
    "\n",
    "- \"The 1st quarter revenue was 110M\"  \n",
    "- \"The 2nd quarter revenue was 95M\"  \n",
    "- \"The 3rd quarter revenue was 100M\"  \n",
    "- \"The 4th quarter revenue was 130M\"  \n",
    "\n",
    "\n",
    "**Exercise 15**\n",
    "\n",
    "Without typing the commands, determine whether the following statements are\n",
    "true or false.\n",
    "\n",
    "Once you have evaluated whether the command is `True` or `False`, run the\n",
    "code in Python."
   ]
  },
  {
   "cell_type": "markdown",
   "metadata": {
    "hide-output": false
   },
   "source": [
    "```python\n",
    "x = 2\n",
    "y = 2\n",
    "z = 4\n",
    "\n",
    "# Statement 1\n",
    "x > z\n",
    "\n",
    "# Statement 1\n",
    "x == y\n",
    "\n",
    "# Statement 3\n",
    "(x < y) and (x > y)\n",
    "\n",
    "# Statement 4\n",
    "(x < y) or (x > y)\n",
    "\n",
    "# Statement 5\n",
    "(x <= y) and (x >= y)\n",
    "\n",
    "# Statement 6\n",
    "True and ((x < z) or (x < y))\n",
    "```\n"
   ]
  },
  {
   "cell_type": "code",
   "execution_count": null,
   "metadata": {
    "hide-output": false
   },
   "outputs": [],
   "source": [
    "# code here!"
   ]
  },
  {
   "cell_type": "markdown",
   "metadata": {},
   "source": [
    "**Exercise 16**\n",
    "\n",
    "For each of the code cells below, think carefully about what you expect to\n",
    "be returned *before* evaluating the cell.\n",
    "\n",
    "Then evaluate the cell to check your intuitions.\n",
    "\n",
    "NOTE: For now, do not worry about what the `[` and `]` mean -- they\n",
    "allow us to create lists which we will learn about in an upcoming lecture."
   ]
  },
  {
   "cell_type": "code",
   "execution_count": null,
   "metadata": {
    "hide-output": false
   },
   "outputs": [],
   "source": [
    "all([True, True, True])"
   ]
  },
  {
   "cell_type": "code",
   "execution_count": null,
   "metadata": {
    "hide-output": false
   },
   "outputs": [],
   "source": [
    "all([False, True, False])"
   ]
  },
  {
   "cell_type": "code",
   "execution_count": null,
   "metadata": {
    "hide-output": false
   },
   "outputs": [],
   "source": [
    "all([False, False, False])"
   ]
  },
  {
   "cell_type": "code",
   "execution_count": null,
   "metadata": {
    "hide-output": false
   },
   "outputs": [],
   "source": [
    "any([True, True, True])"
   ]
  },
  {
   "cell_type": "code",
   "execution_count": null,
   "metadata": {
    "hide-output": false
   },
   "outputs": [],
   "source": [
    "any([False, True, False])"
   ]
  },
  {
   "cell_type": "code",
   "execution_count": null,
   "metadata": {
    "hide-output": false
   },
   "outputs": [],
   "source": [
    "any([False, False, False])"
   ]
  }
 ],
 "metadata": {
  "date": 1596739280.2860346,
  "filename": "basics.rst",
  "kernelspec": {
   "display_name": "Python 3",
   "language": "python",
   "name": "python3"
  },
  "language_info": {
   "codemirror_mode": {
    "name": "ipython",
    "version": 3
   },
   "file_extension": ".py",
   "mimetype": "text/x-python",
   "name": "python",
   "nbconvert_exporter": "python",
   "pygments_lexer": "ipython3",
   "version": "3.8.5"
  },
  "next_doc": {
   "link": "collections",
   "title": "Collections"
  },
  "prev_doc": {
   "link": "index",
   "title": "Python Fundamentals"
  },
  "title": "Basics"
 },
 "nbformat": 4,
 "nbformat_minor": 4
}
