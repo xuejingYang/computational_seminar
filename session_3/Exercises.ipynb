{
 "cells": [
  {
   "cell_type": "markdown",
   "metadata": {},
   "source": [
    "# Exercises"
   ]
  },
  {
   "cell_type": "markdown",
   "metadata": {},
   "source": [
    "## Numerical Python"
   ]
  },
  {
   "cell_type": "markdown",
   "metadata": {},
   "source": [
    "### Plotting a function\n",
    "\n",
    "- Define a vector `x` with 1000 regularly spaced elements between 0 and 10"
   ]
  },
  {
   "cell_type": "markdown",
   "metadata": {},
   "source": [
    "- Define a vector `y` representing $y=sin(x)$"
   ]
  },
  {
   "cell_type": "markdown",
   "metadata": {},
   "source": [
    "- Define a vector `y1` representing $y=abs(sin(x))$"
   ]
  },
  {
   "cell_type": "markdown",
   "metadata": {},
   "source": [
    "- Define a vector `y2` representing $y=sin(x) \\text{if} y>0.1 \\text{else} 0.1$"
   ]
  },
  {
   "cell_type": "markdown",
   "metadata": {},
   "source": [
    "- Plot `y`, `y1`, `y2` against x"
   ]
  },
  {
   "cell_type": "markdown",
   "metadata": {},
   "source": [
    "### Autocorrelated process\n",
    "\n",
    "- Set `T=100`, `rho=0.9`, `sigma=0.01`. We consider an autoregressive process $x_t=\\rho x_{t-1} + \\epsilon_t$\n",
    "where $\\epsilon_t$ is normally distributed with standard deviation $\\sigma$"
   ]
  },
  {
   "cell_type": "markdown",
   "metadata": {},
   "source": [
    "- Create an empty vector `x = np.zeros(T)`"
   ]
  },
  {
   "cell_type": "markdown",
   "metadata": {},
   "source": [
    "- Loop over `t>0` and fill `x[t]` so that `x` represents a simulation for `t` periods of process $x_t$ "
   ]
  },
  {
   "cell_type": "markdown",
   "metadata": {},
   "source": [
    "- Use function `hpfilter` from statsmodels (google it). It returns a and a residual"
   ]
  },
  {
   "cell_type": "markdown",
   "metadata": {},
   "source": [
    "- Plot the simulated series, the filtered series and the residual"
   ]
  },
  {
   "cell_type": "markdown",
   "metadata": {},
   "source": [
    "## Iris Data Set\n",
    "\n",
    "You will need the library `vega_datasets` and the `altair` library. You can install them with `!pip install vega_datasets` and `!pip install altair`\n",
    "Load the `iris` database."
   ]
  },
  {
   "cell_type": "markdown",
   "metadata": {},
   "source": [
    "- Print statistics (mean, std), by flower, for each characteristics."
   ]
  },
  {
   "cell_type": "markdown",
   "metadata": {},
   "source": [
    "- Use matplotlib to make *correlation plots*, betwen flowers characteristics. (for instance, plot `sepalWidth` against `sepalLength`. Ideally, use different shapes or colors for various flowers."
   ]
  },
  {
   "cell_type": "markdown",
   "metadata": {},
   "source": [
    "- Convert the database to *long* format"
   ]
  },
  {
   "cell_type": "markdown",
   "metadata": {},
   "source": [
    "- Use altair, to plot correlation between two characteristics, with different color for each flower. Plot all correlations."
   ]
  },
  {
   "cell_type": "markdown",
   "metadata": {},
   "source": [
    "## Philips Curve and Okun's Law\n",
    "\n",
    "If needed, install dbnomics with `!pip install dbnomics`.\n",
    "\n",
    "- Download inflation, unemployment and gdp series from France."
   ]
  },
  {
   "cell_type": "markdown",
   "metadata": {},
   "source": [
    "- Compute growth rate of gdp."
   ]
  },
  {
   "cell_type": "markdown",
   "metadata": {},
   "source": [
    "- Plot two graphs to verify graphically the Phillips curve (unemployment against inflation) and Okun's law (unemployment against output)."
   ]
  },
  {
   "cell_type": "code",
   "execution_count": null,
   "metadata": {},
   "outputs": [],
   "source": []
  }
 ],
 "metadata": {
  "kernelspec": {
   "display_name": "Python 3",
   "language": "python",
   "name": "python3"
  },
  "language_info": {
   "codemirror_mode": {
    "name": "ipython",
    "version": 3
   },
   "file_extension": ".py",
   "mimetype": "text/x-python",
   "name": "python",
   "nbconvert_exporter": "python",
   "pygments_lexer": "ipython3",
   "version": "3.8.5"
  }
 },
 "nbformat": 4,
 "nbformat_minor": 4
}
